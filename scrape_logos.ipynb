{
 "metadata": {
  "language_info": {
   "codemirror_mode": {
    "name": "ipython",
    "version": 3
   },
   "file_extension": ".py",
   "mimetype": "text/x-python",
   "name": "python",
   "nbconvert_exporter": "python",
   "pygments_lexer": "ipython3",
   "version": "3.9.1"
  },
  "orig_nbformat": 2,
  "kernelspec": {
   "name": "python391jvsc74a57bd0aee8b7b246df8f9039afb4144a1f6fd8d2ca17a180786b69acc140d282b71a49",
   "display_name": "Python 3.9.1 64-bit"
  },
  "metadata": {
   "interpreter": {
    "hash": "aee8b7b246df8f9039afb4144a1f6fd8d2ca17a180786b69acc140d282b71a49"
   }
  }
 },
 "nbformat": 4,
 "nbformat_minor": 2,
 "cells": [
  {
   "cell_type": "code",
   "execution_count": 4,
   "metadata": {},
   "outputs": [],
   "source": [
    "import pandas as pd\n",
    "from bs4 import BeautifulSoup\n",
    "import requests\n",
    "from PIL import Image"
   ]
  },
  {
   "cell_type": "code",
   "execution_count": null,
   "metadata": {},
   "outputs": [],
   "source": [
    "url = 'http://loodibee.com/nhl/'\n",
    "html_doc = requests.get(url).text\n",
    "soup = BeautifulSoup(html_doc, 'html.parser')\n",
    "\n",
    "for logo_figure in soup.find('div', {'class': 'logos-layout'}).find_all('figure'):\n",
    "    logo_src = logo_figure.find('img')['src']\n",
    "    team_name = logo_figure.find('figcaption').get_text()\n",
    "\n",
    "    with open(f'logos/{team_name}.png', 'wb') as fp:\n",
    "        response = requests.get(logo_src).content\n",
    "        fp.write(response)"
   ]
  },
  {
   "cell_type": "code",
   "execution_count": 6,
   "metadata": {},
   "outputs": [],
   "source": [
    "team_colors = {}\n",
    "\n",
    "url = 'https://teamcolorcodes.com/nhl-team-color-codes/'\n",
    "html_doc = requests.get(url).text\n",
    "soup = BeautifulSoup(html_doc, 'html.parser')\n",
    "\n",
    "for team_button in soup.find(\"div\", {\"class\": \"entry-content\"}).find_all('a', {\"class\": \"team-button\"}):\n",
    "    team_name = team_button.get_text()\n",
    "    team_color = team_button['style'].split('; ')[0].split(': ')[1]\n",
    "    team_colors[team_name] = team_color\n",
    "\n",
    "team_colors = pd.Series(team_colors)\n",
    "team_colors.to_csv('logos/team_colors.csv')"
   ]
  },
  {
   "cell_type": "code",
   "execution_count": null,
   "metadata": {},
   "outputs": [],
   "source": []
  }
 ]
}