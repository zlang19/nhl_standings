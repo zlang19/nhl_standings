{
 "cells": [
  {
   "cell_type": "code",
   "execution_count": 1,
   "metadata": {},
   "outputs": [],
   "source": [
    "import pandas as pd\n",
    "from bs4 import BeautifulSoup\n",
    "import requests\n",
    "from PIL import Image"
   ]
  },
  {
   "cell_type": "code",
   "execution_count": 2,
   "metadata": {},
   "outputs": [],
   "source": [
    "url = 'http://loodibee.com/nhl/'\n",
    "html_doc = requests.get(url).text\n",
    "soup = BeautifulSoup(html_doc, 'html.parser')\n",
    "\n",
    "for logo_figure in soup.find('div', {'class': 'logos-layout'}).find_all('figure'):\n",
    "    logo_src = logo_figure.find('img')['src']\n",
    "    team_name = logo_figure.find('figcaption').get_text()\n",
    "\n",
    "    with open(f'logos/{team_name}.png', 'wb') as fp:\n",
    "        response = requests.get(logo_src).content\n",
    "        fp.write(response)"
   ]
  },
  {
   "cell_type": "code",
   "execution_count": 15,
   "metadata": {},
   "outputs": [],
   "source": [
    "team_colors = {}\n",
    "\n",
    "url = 'https://teamcolorcodes.com/nhl-team-color-codes/'\n",
    "html_doc = requests.get(url).text\n",
    "soup = BeautifulSoup(html_doc, 'html.parser')\n",
    "\n",
    "for team_button in soup.find(\"div\", {\"class\": \"entry-content\"}).find_all('a', {\"class\": \"team-button\"}):\n",
    "    team_name = team_button.get_text()\n",
    "    team_color = team_button['style'].split(';')[0].split(':')[1].strip()\n",
    "    team_colors[team_name] = team_color\n",
    "\n",
    "team_colors = pd.Series(team_colors)\n",
    "team_colors.to_csv('logos/team_colors.csv')"
   ]
  }
 ],
 "metadata": {
  "interpreter": {
   "hash": "dedfb07687b328e7990d6316f073b63921489b706cc08f80e5b925164bd02885"
  },
  "kernelspec": {
   "display_name": "Python 3.9.6 64-bit ('crypto3.9': pyenv)",
   "name": "python3"
  },
  "language_info": {
   "codemirror_mode": {
    "name": "ipython",
    "version": 3
   },
   "file_extension": ".py",
   "mimetype": "text/x-python",
   "name": "python",
   "nbconvert_exporter": "python",
   "pygments_lexer": "ipython3",
   "version": "3.9.6"
  },
  "metadata": {
   "interpreter": {
    "hash": "aee8b7b246df8f9039afb4144a1f6fd8d2ca17a180786b69acc140d282b71a49"
   }
  },
  "orig_nbformat": 2
 },
 "nbformat": 4,
 "nbformat_minor": 2
}
